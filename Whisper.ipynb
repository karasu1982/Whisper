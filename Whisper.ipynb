{
  "nbformat": 4,
  "nbformat_minor": 0,
  "metadata": {
    "colab": {
      "provenance": [],
      "collapsed_sections": [],
      "authorship_tag": "ABX9TyMns7Mv9B9Lb0zJ5JgqXHYt",
      "include_colab_link": true
    },
    "kernelspec": {
      "name": "python3",
      "display_name": "Python 3"
    },
    "language_info": {
      "name": "python"
    },
    "accelerator": "GPU"
  },
  "cells": [
    {
      "cell_type": "markdown",
      "metadata": {
        "id": "view-in-github",
        "colab_type": "text"
      },
      "source": [
        "<a href=\"https://colab.research.google.com/github/karasu1982/Whisper/blob/main/Whisper.ipynb\" target=\"_parent\"><img src=\"https://colab.research.google.com/assets/colab-badge.svg\" alt=\"Open In Colab\"/></a>"
      ]
    },
    {
      "cell_type": "markdown",
      "source": [
        "# 環境設定"
      ],
      "metadata": {
        "id": "oeHvgnjDJesa"
      }
    },
    {
      "cell_type": "code",
      "source": [
        "#@title ライブラリインストール\n",
        "\n",
        "! pip install git+https://github.com/openai/whisper.git"
      ],
      "metadata": {
        "id": "bm_QSIJKXhl6"
      },
      "execution_count": null,
      "outputs": []
    },
    {
      "cell_type": "code",
      "source": [
        "#@title ライブラリインポート\n",
        "\n",
        "import whisper"
      ],
      "metadata": {
        "id": "RdqPFQvVFRE7"
      },
      "execution_count": null,
      "outputs": []
    },
    {
      "cell_type": "markdown",
      "source": [
        "# 元データ"
      ],
      "metadata": {
        "id": "scCj9modJdZf"
      }
    },
    {
      "cell_type": "code",
      "source": [
        "%%bash\n",
        "wget https://www.3anet.co.jp/np/secure/0-0001-01-333020/0-0001-01-333020-0.zip\n",
        "unzip /content/0-0001-01-333020-0.zip"
      ],
      "metadata": {
        "id": "3hW53llTJFfw"
      },
      "execution_count": null,
      "outputs": []
    },
    {
      "cell_type": "markdown",
      "source": [
        "# 処理実行"
      ],
      "metadata": {
        "id": "E4dCTcSMJv4D"
      }
    },
    {
      "cell_type": "code",
      "source": [
        "# モデルロード\n",
        "model = whisper.load_model(\"base\")\n",
        "\n",
        "# 音声データロード\n",
        "audio = whisper.load_audio(\"/content/001.mp3\")\n",
        "audio = whisper.pad_or_trim(audio)\n",
        "\n",
        "# make log-Mel spectrogram and move to the same device as the model\n",
        "mel = whisper.log_mel_spectrogram(audio).to(model.device)\n",
        "\n",
        "# 言語特定\n",
        "_, probs = model.detect_language(mel)\n",
        "print(f\"Detected language: {max(probs, key=probs.get)}\")\n",
        "\n",
        "# 音声認識実施\n",
        "options = whisper.DecodingOptions()\n",
        "result = whisper.decode(model, mel, options)\n",
        "\n",
        "# 結果出力\n",
        "print(result.text)"
      ],
      "metadata": {
        "id": "8vu2Q4ivJ6RD"
      },
      "execution_count": null,
      "outputs": []
    }
  ]
}